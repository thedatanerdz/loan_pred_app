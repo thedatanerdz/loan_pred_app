{
 "cells": [
  {
   "cell_type": "markdown",
   "metadata": {},
   "source": [
    "# Step 1: Download dataset from here. "
   ]
  },
  {
   "cell_type": "markdown",
   "metadata": {},
   "source": [
    "# Step 2: Download terraform if you haven't already."
   ]
  },
  {
   "cell_type": "markdown",
   "metadata": {},
   "source": [
    "# Step 3: Set up .tf file for S3 bucket"
   ]
  },
  {
   "cell_type": "markdown",
   "metadata": {},
   "source": [
    "To set up an S3 bucket as private using Terraform and then push a .csv file to the bucket, you can follow these step-by-step instructions along with code snippets. I'll break this down into two parts: creating the S3 bucket and uploading a .csv file to it.\n",
    "\n",
    "Part 1: Creating an S3 Bucket with Terraform\n",
    "\n",
    "Create a new Terraform configuration file (e.g., main.tf):"
   ]
  },
  {
   "cell_type": "code",
   "execution_count": null,
   "metadata": {
    "vscode": {
     "languageId": "plaintext"
    }
   },
   "outputs": [],
   "source": [
    "provider \"aws\" {\n",
    "  region = \"us-east-1\"  # Set your desired AWS region\n",
    "}\n",
    "\n",
    "resource \"aws_s3_bucket\" \"private_bucket\" {\n",
    "  bucket = \"your-unique-bucket-name\"\n",
    "  acl    = \"private\"  # Set the ACL to private to make the bucket private\n",
    "}\n"
   ]
  },
  {
   "cell_type": "markdown",
   "metadata": {},
   "source": [
    "Initialize and apply the Terraform configuration.\n",
    "\n",
    "Run the following commands in your terminal:"
   ]
  },
  {
   "cell_type": "code",
   "execution_count": null,
   "metadata": {
    "vscode": {
     "languageId": "plaintext"
    }
   },
   "outputs": [],
   "source": [
    "terraform init\n",
    "terraform apply"
   ]
  },
  {
   "cell_type": "markdown",
   "metadata": {},
   "source": [
    "Part 2: Uploading a .csv File to the S3 Bucket\n",
    "\n",
    "- Add an AWS IAM user with S3 upload permissions.\n",
    "- You'll need to create an IAM user with appropriate permissions and obtain its access key and secret key. The user should have s3:PutObject permissions on the specific S3 bucket.\n",
    "- Install the AWS Command Line Interface (CLI) and configure it with your IAM user's credentials:"
   ]
  },
  {
   "cell_type": "code",
   "execution_count": null,
   "metadata": {
    "vscode": {
     "languageId": "plaintext"
    }
   },
   "outputs": [],
   "source": [
    "aws configure"
   ]
  },
  {
   "cell_type": "markdown",
   "metadata": {},
   "source": [
    "Use the AWS CLI to upload the .csv file to your S3 bucket:"
   ]
  },
  {
   "cell_type": "code",
   "execution_count": null,
   "metadata": {
    "vscode": {
     "languageId": "plaintext"
    }
   },
   "outputs": [],
   "source": [
    "aws s3 cp example.csv s3://your-unique-bucket-name/"
   ]
  },
  {
   "cell_type": "markdown",
   "metadata": {},
   "source": [
    "# Step 4: EDA "
   ]
  }
 ],
 "metadata": {
  "language_info": {
   "name": "python"
  }
 },
 "nbformat": 4,
 "nbformat_minor": 2
}
